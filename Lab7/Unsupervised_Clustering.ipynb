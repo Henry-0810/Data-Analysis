{
  "cells": [
    {
      "cell_type": "markdown",
      "id": "46f7481f",
      "metadata": {
        "id": "46f7481f"
      },
      "source": [
        "# Clustering (Unsupervised Learning)\n"
      ]
    },
    {
      "cell_type": "markdown",
      "id": "51ef06ea",
      "metadata": {
        "id": "51ef06ea"
      },
      "source": [
        "## Worked Example\n",
        "Let us take an example. As before, we will want to get some of our required libraries imported before getting to work:"
      ]
    },
    {
      "cell_type": "code",
      "execution_count": 2,
      "id": "66c0d80d",
      "metadata": {
        "id": "66c0d80d"
      },
      "outputs": [],
      "source": [
        "import numpy as np\n",
        "import matplotlib.pyplot as plt\n",
        "# Import style class from matplotlib and use that to apply\n",
        "\n",
        "from matplotlib import style\n",
        "plt.style.use('ggplot')"
      ]
    },
    {
      "cell_type": "markdown",
      "id": "ca65e4ac",
      "metadata": {
        "id": "ca65e4ac"
      },
      "source": [
        "Now, we will take a bunch of data points and cluster them. How, you ask? Using a fantastic algorithm called k-means. In addition to being fantastic, k-means is a simple algorithm. Here is how it works.\n",
        "\n",
        "1. First, we guess or determine the number of clusters (k) we want. If our data points are in n dimensions, the centers of these clusters, or centroids, will also be n-dimensional points. In other words, we will have a total of k n-dimensional points that we will call the centroids. Yes, these are essentially just some random points in that n-dimensional space.\n",
        "2. Now, we assign each of the actual data points to one of these k centroids based on their distances to these centroids. After this step, each data point will be assigned to one of the k clusters.\n",
        "3. Now, we recompute each cluster’s centroid. So, we end up with k centroids again, but these are now adjusted to reflect how the data points are distributed.\n",
        "\n",
        "We keep repeating steps 2 and 3 until we converge. In other words, we cease this iterative process when the centroids of the k clusters are no longer changing. And at that point we have “real” k clusters,with each data point belonging to one of them.\n",
        "Fortunately, with the right package in Python, we do not need to implement all of this from scratch. \n",
        "\n",
        "That right package is sklearn.cluster, which contains implementations for various clustering algorithms, including k-means. Let us import it:"
      ]
    },
    {
      "cell_type": "code",
      "execution_count": 3,
      "id": "403f3cab",
      "metadata": {
        "id": "403f3cab"
      },
      "outputs": [],
      "source": [
        "# Get KMeans class from clustering library available within\n",
        "#scikit-learn\n",
        "from sklearn.cluster import KMeans"
      ]
    },
    {
      "cell_type": "markdown",
      "id": "41463d49",
      "metadata": {
        "id": "41463d49"
      },
      "source": [
        "For this exercise, we are just going to make up some data points in two-dimensional (2D) space (so we can visualize them easily):"
      ]
    },
    {
      "cell_type": "code",
      "execution_count": 4,
      "id": "74c0af72",
      "metadata": {
        "id": "74c0af72"
      },
      "outputs": [],
      "source": [
        "# Define data points on 2D plane using Cartesian coordinates\n",
        "X = np.array([[1, 2],\n",
        "[5, 8],\n",
        "[1.5, 1.8],\n",
        "[8, 8],\n",
        "[1, 0.6],\n",
        "[9, 11]])"
      ]
    },
    {
      "cell_type": "markdown",
      "id": "36d78fcd",
      "metadata": {
        "id": "36d78fcd"
      },
      "source": [
        "Now, we will proceed with clustering as well as visualizing the clusters that k-means algorithm generates:"
      ]
    },
    {
      "cell_type": "code",
      "execution_count": 5,
      "id": "2635d6f4",
      "metadata": {
        "colab": {
          "base_uri": "https://localhost:8080/",
          "height": 421
        },
        "id": "2635d6f4",
        "outputId": "81faf5f8-6869-4906-9bb4-09474a5a393e"
      },
      "outputs": [
        {
          "name": "stderr",
          "output_type": "stream",
          "text": [
            "c:\\ProgramData\\anaconda3\\lib\\site-packages\\sklearn\\cluster\\_kmeans.py:870: FutureWarning: The default value of `n_init` will change from 10 to 'auto' in 1.4. Set the value of `n_init` explicitly to suppress the warning\n",
            "  warnings.warn(\n",
            "c:\\ProgramData\\anaconda3\\lib\\site-packages\\sklearn\\cluster\\_kmeans.py:1382: UserWarning: KMeans is known to have a memory leak on Windows with MKL, when there are less chunks than available threads. You can avoid it by setting the environment variable OMP_NUM_THREADS=1.\n",
            "  warnings.warn(\n"
          ]
        },
        {
          "name": "stdout",
          "output_type": "stream",
          "text": [
            "[[7.33333333 9.        ]\n",
            " [1.16666667 1.46666667]]\n",
            "[1 0 1 0 1 0]\n",
            "Coordinate: [1. 2.] Label: 1\n",
            "Coordinate: [5. 8.] Label: 0\n",
            "Coordinate: [1.5 1.8] Label: 1\n",
            "Coordinate: [8. 8.] Label: 0\n",
            "Coordinate: [1.  0.6] Label: 1\n",
            "Coordinate: [ 9. 11.] Label: 0\n"
          ]
        },
        {
          "data": {
            "image/png": "[encoded data removed]",
            "text/plain": [
              "<Figure size 640x480 with 1 Axes>"
            ]
          },
          "metadata": {},
          "output_type": "display_data"
        }
      ],
      "source": [
        "# Perform clustering using k-means algorithm\n",
        "kmeans = KMeans(n_clusters=2)\n",
        "kmeans.fit(X)\n",
        "# ‘kmeans’ holds the model; extract information about clusters\n",
        "# as represented by their centroids, along with their labels\n",
        "centroids = kmeans.cluster_centers_\n",
        "labels = kmeans.labels_\n",
        "print(centroids)\n",
        "print(labels)\n",
        "# Define a colors array\n",
        "colors = ['g.', 'r.', 'c.', 'y.']\n",
        "# Loop to go through each data point, plotting it on the plane\n",
        "# with a color picked from the above list – one color per cluster\n",
        "for i in range(len(X)):\n",
        "  print('Coordinate:',X[i], 'Label:', labels[i])\n",
        "  plt.plot(X[i][0], X[i][1], colors[labels[i]],\n",
        "  markersize = 10)\n",
        "  # Plot the centroids using “x”\n",
        "  plt.scatter(centroids[:, 0],centroids[:, 1],\n",
        "  marker='x', s=150, linewidths=2, zorder=10)\n",
        "plt.show()"
      ]
    },
    {
      "cell_type": "markdown",
      "id": "58fe4920",
      "metadata": {
        "id": "58fe4920"
      },
      "source": [
        "The plot displays the output. As you can see, there are six points plotted. It is easy to imagine that if we were to look for two clusters, we can have one group at the bottom-left (represented in red) and another group in top-right (represented in green). Here we have used the k-means algorithm, which aims to find k unique clusters where the center of each cluster (centroid) is the mean of the values in that cluster. These clusters are represented using blue “X” symbols.\n",
        "\n",
        "Now let us see what happens if we want three clusters. Change the n_clusters argument (input or parameter) in KMeans function to be 3. And voilà! the plot shows how this algorithm can give us three clusters with the same six data points.\n",
        "\n",
        "You can even try n_clusters=4. So, you see, this is unsupervised learning because the labels or colors of the data points are not known to be able to put them in classes. In fact, we do not even know how many labels or classes there should be, and so we could impose almost as many of those as we like."
      ]
    },
    {
      "cell_type": "markdown",
      "id": "8026d582",
      "metadata": {
        "id": "8026d582"
      },
      "source": [
        "## Question 1\n",
        "For this exercise, you need to work with the breast cancer Coimbra dataset.\n",
        "1. First download the dataset from https://archive.ics.uci.edu/ml/datasets/Breast+Cancer+Coimbra and load the data. The dataset has 10 features including the class labels (1 or 2). Next, you need to round off the Leptin feature values to two decimal places.\n",
        "\n",
        "2. Having done that, use the first nine attributes (dataset minus the class label) to group the data points into two clusters. You can use any clustering algorithm of your choice, but the number of clusters should remain the same. \n",
        "3. Once the clustering is complete, use the class labels to evaluate the accuracy of the clustering algorithm that you chose."
      ]
    },
    {
      "cell_type": "code",
      "execution_count": 6,
      "id": "9a50794f",
      "metadata": {
        "id": "9a50794f"
      },
      "outputs": [
        {
          "data": {
            "text/html": [
              "<div>\n",
              "<style scoped>\n",
              "    .dataframe tbody tr th:only-of-type {\n",
              "        vertical-align: middle;\n",
              "    }\n",
              "\n",
              "    .dataframe tbody tr th {\n",
              "        vertical-align: top;\n",
              "    }\n",
              "\n",
              "    .dataframe thead th {\n",
              "        text-align: right;\n",
              "    }\n",
              "</style>\n",
              "<table border=\"1\" class=\"dataframe\">\n",
              "  <thead>\n",
              "    <tr style=\"text-align: right;\">\n",
              "      <th></th>\n",
              "      <th>Age</th>\n",
              "      <th>BMI</th>\n",
              "      <th>Glucose</th>\n",
              "      <th>Insulin</th>\n",
              "      <th>HOMA</th>\n",
              "      <th>Leptin</th>\n",
              "      <th>Adiponectin</th>\n",
              "      <th>Resistin</th>\n",
              "      <th>MCP.1</th>\n",
              "      <th>Classification</th>\n",
              "    </tr>\n",
              "  </thead>\n",
              "  <tbody>\n",
              "    <tr>\n",
              "      <th>0</th>\n",
              "      <td>48</td>\n",
              "      <td>23.500000</td>\n",
              "      <td>70</td>\n",
              "      <td>2.707</td>\n",
              "      <td>0.467409</td>\n",
              "      <td>8.81</td>\n",
              "      <td>9.702400</td>\n",
              "      <td>7.99585</td>\n",
              "      <td>417.114</td>\n",
              "      <td>1</td>\n",
              "    </tr>\n",
              "    <tr>\n",
              "      <th>1</th>\n",
              "      <td>83</td>\n",
              "      <td>20.690495</td>\n",
              "      <td>92</td>\n",
              "      <td>3.115</td>\n",
              "      <td>0.706897</td>\n",
              "      <td>8.84</td>\n",
              "      <td>5.429285</td>\n",
              "      <td>4.06405</td>\n",
              "      <td>468.786</td>\n",
              "      <td>1</td>\n",
              "    </tr>\n",
              "    <tr>\n",
              "      <th>2</th>\n",
              "      <td>82</td>\n",
              "      <td>23.124670</td>\n",
              "      <td>91</td>\n",
              "      <td>4.498</td>\n",
              "      <td>1.009651</td>\n",
              "      <td>17.94</td>\n",
              "      <td>22.432040</td>\n",
              "      <td>9.27715</td>\n",
              "      <td>554.697</td>\n",
              "      <td>1</td>\n",
              "    </tr>\n",
              "    <tr>\n",
              "      <th>3</th>\n",
              "      <td>68</td>\n",
              "      <td>21.367521</td>\n",
              "      <td>77</td>\n",
              "      <td>3.226</td>\n",
              "      <td>0.612725</td>\n",
              "      <td>9.88</td>\n",
              "      <td>7.169560</td>\n",
              "      <td>12.76600</td>\n",
              "      <td>928.220</td>\n",
              "      <td>1</td>\n",
              "    </tr>\n",
              "    <tr>\n",
              "      <th>4</th>\n",
              "      <td>86</td>\n",
              "      <td>21.111111</td>\n",
              "      <td>92</td>\n",
              "      <td>3.549</td>\n",
              "      <td>0.805386</td>\n",
              "      <td>6.70</td>\n",
              "      <td>4.819240</td>\n",
              "      <td>10.57635</td>\n",
              "      <td>773.920</td>\n",
              "      <td>1</td>\n",
              "    </tr>\n",
              "    <tr>\n",
              "      <th>...</th>\n",
              "      <td>...</td>\n",
              "      <td>...</td>\n",
              "      <td>...</td>\n",
              "      <td>...</td>\n",
              "      <td>...</td>\n",
              "      <td>...</td>\n",
              "      <td>...</td>\n",
              "      <td>...</td>\n",
              "      <td>...</td>\n",
              "      <td>...</td>\n",
              "    </tr>\n",
              "    <tr>\n",
              "      <th>111</th>\n",
              "      <td>45</td>\n",
              "      <td>26.850000</td>\n",
              "      <td>92</td>\n",
              "      <td>3.330</td>\n",
              "      <td>0.755688</td>\n",
              "      <td>54.68</td>\n",
              "      <td>12.100000</td>\n",
              "      <td>10.96000</td>\n",
              "      <td>268.230</td>\n",
              "      <td>2</td>\n",
              "    </tr>\n",
              "    <tr>\n",
              "      <th>112</th>\n",
              "      <td>62</td>\n",
              "      <td>26.840000</td>\n",
              "      <td>100</td>\n",
              "      <td>4.530</td>\n",
              "      <td>1.117400</td>\n",
              "      <td>12.45</td>\n",
              "      <td>21.420000</td>\n",
              "      <td>7.32000</td>\n",
              "      <td>330.160</td>\n",
              "      <td>2</td>\n",
              "    </tr>\n",
              "    <tr>\n",
              "      <th>113</th>\n",
              "      <td>65</td>\n",
              "      <td>32.050000</td>\n",
              "      <td>97</td>\n",
              "      <td>5.730</td>\n",
              "      <td>1.370998</td>\n",
              "      <td>61.48</td>\n",
              "      <td>22.540000</td>\n",
              "      <td>10.33000</td>\n",
              "      <td>314.050</td>\n",
              "      <td>2</td>\n",
              "    </tr>\n",
              "    <tr>\n",
              "      <th>114</th>\n",
              "      <td>72</td>\n",
              "      <td>25.590000</td>\n",
              "      <td>82</td>\n",
              "      <td>2.820</td>\n",
              "      <td>0.570392</td>\n",
              "      <td>24.96</td>\n",
              "      <td>33.750000</td>\n",
              "      <td>3.27000</td>\n",
              "      <td>392.460</td>\n",
              "      <td>2</td>\n",
              "    </tr>\n",
              "    <tr>\n",
              "      <th>115</th>\n",
              "      <td>86</td>\n",
              "      <td>27.180000</td>\n",
              "      <td>138</td>\n",
              "      <td>19.910</td>\n",
              "      <td>6.777364</td>\n",
              "      <td>90.28</td>\n",
              "      <td>14.110000</td>\n",
              "      <td>4.35000</td>\n",
              "      <td>90.090</td>\n",
              "      <td>2</td>\n",
              "    </tr>\n",
              "  </tbody>\n",
              "</table>\n",
              "<p>116 rows × 10 columns</p>\n",
              "</div>"
            ],
            "text/plain": [
              "     Age        BMI  Glucose  Insulin      HOMA  Leptin  Adiponectin  \\\n",
              "0     48  23.500000       70    2.707  0.467409    8.81     9.702400   \n",
              "1     83  20.690495       92    3.115  0.706897    8.84     5.429285   \n",
              "2     82  23.124670       91    4.498  1.009651   17.94    22.432040   \n",
              "3     68  21.367521       77    3.226  0.612725    9.88     7.169560   \n",
              "4     86  21.111111       92    3.549  0.805386    6.70     4.819240   \n",
              "..   ...        ...      ...      ...       ...     ...          ...   \n",
              "111   45  26.850000       92    3.330  0.755688   54.68    12.100000   \n",
              "112   62  26.840000      100    4.530  1.117400   12.45    21.420000   \n",
              "113   65  32.050000       97    5.730  1.370998   61.48    22.540000   \n",
              "114   72  25.590000       82    2.820  0.570392   24.96    33.750000   \n",
              "115   86  27.180000      138   19.910  6.777364   90.28    14.110000   \n",
              "\n",
              "     Resistin    MCP.1  Classification  \n",
              "0     7.99585  417.114               1  \n",
              "1     4.06405  468.786               1  \n",
              "2     9.27715  554.697               1  \n",
              "3    12.76600  928.220               1  \n",
              "4    10.57635  773.920               1  \n",
              "..        ...      ...             ...  \n",
              "111  10.96000  268.230               2  \n",
              "112   7.32000  330.160               2  \n",
              "113  10.33000  314.050               2  \n",
              "114   3.27000  392.460               2  \n",
              "115   4.35000   90.090               2  \n",
              "\n",
              "[116 rows x 10 columns]"
            ]
          },
          "execution_count": 6,
          "metadata": {},
          "output_type": "execute_result"
        }
      ],
      "source": [
        "import pandas as pd\n",
        "\n",
        "df = pd.read_csv('Coimbra.csv')\n",
        "df['Leptin'] = round(df['Leptin'],2)\n",
        "df"
      ]
    },
    {
      "cell_type": "code",
      "execution_count": 12,
      "id": "471698e7",
      "metadata": {
        "id": "471698e7"
      },
      "outputs": [
        {
          "name": "stderr",
          "output_type": "stream",
          "text": [
            "c:\\ProgramData\\anaconda3\\lib\\site-packages\\sklearn\\cluster\\_kmeans.py:1382: UserWarning: KMeans is known to have a memory leak on Windows with MKL, when there are less chunks than available threads. You can avoid it by setting the environment variable OMP_NUM_THREADS=1.\n",
            "  warnings.warn(\n"
          ]
        },
        {
          "name": "stdout",
          "output_type": "stream",
          "text": [
            "[[ 56.37142857  27.23719681  92.00952381   8.58681905]\n",
            " [ 66.18181818  30.87447187 153.          23.61690909]]\n",
            "[0 0 0 0 0 0 0 0 0 0 0 0 0 0 0 0 0 0 0 0 0 0 0 0 0 0 0 0 0 0 0 0 0 0 0 0 0\n",
            " 0 0 0 0 0 0 0 0 0 0 0 0 0 0 0 0 0 0 0 0 0 0 0 0 0 0 0 0 0 0 0 0 0 0 0 0 0\n",
            " 0 0 0 0 1 0 0 0 0 0 0 0 0 1 1 1 1 0 0 1 1 0 0 0 0 0 0 0 0 0 0 1 0 0 1 1 0\n",
            " 0 0 0 0 1]\n",
            "Coordinate: [48.    23.5   70.     2.707] Label: 0\n",
            "Coordinate: [83.         20.69049454 92.          3.115     ] Label: 0\n",
            "Coordinate: [82.         23.12467037 91.          4.498     ] Label: 0\n",
            "Coordinate: [68.         21.36752137 77.          3.226     ] Label: 0\n",
            "Coordinate: [86.         21.11111111 92.          3.549     ] Label: 0\n",
            "Coordinate: [49.         22.85445769 92.          3.226     ] Label: 0\n",
            "Coordinate: [89.   22.7  77.    4.69] Label: 0\n",
            "Coordinate: [ 76.    23.8  118.     6.47] Label: 0\n",
            "Coordinate: [73.   22.   97.    3.35] Label: 0\n",
            "Coordinate: [75.    23.    83.     4.952] Label: 0\n",
            "Coordinate: [34.    21.47  78.     3.469] Label: 0\n",
            "Coordinate: [29.    23.01  82.     5.663] Label: 0\n",
            "Coordinate: [25.   22.86 82.    4.09] Label: 0\n",
            "Coordinate: [24.    18.67  88.     6.107] Label: 0\n",
            "Coordinate: [38.    23.34  75.     5.782] Label: 0\n",
            "Coordinate: [44.    20.76  86.     7.553] Label: 0\n",
            "Coordinate: [47.    22.03  84.     2.869] Label: 0\n",
            "Coordinate: [61.         32.03895937 85.         18.077     ] Label: 0\n",
            "Coordinate: [64.        34.5297228 95.         4.427    ] Label: 0\n",
            "Coordinate: [32.         36.51263743 87.         14.026     ] Label: 0\n",
            "Coordinate: [36.         28.57667585 86.          4.345     ] Label: 0\n",
            "Coordinate: [34.         31.97501487 87.          4.53      ] Label: 0\n",
            "Coordinate: [29.         32.27078777 84.          5.81      ] Label: 0\n",
            "Coordinate: [35.         30.27681661 84.          4.376     ] Label: 0\n",
            "Coordinate: [54.         30.48315806 90.          5.537     ] Label: 0\n",
            "Coordinate: [45.         37.03560819 83.          6.76      ] Label: 0\n",
            "Coordinate: [ 50.          38.57875854 106.           6.703     ] Label: 0\n",
            "Coordinate: [66.         31.44654088 90.          9.245     ] Label: 0\n",
            "Coordinate: [35.        35.2507611 90.         6.817    ] Label: 0\n",
            "Coordinate: [36.      34.17489 80.       6.59   ] Label: 0\n",
            "Coordinate: [ 66.          36.21227888 101.          15.533     ] Label: 0\n",
            "Coordinate: [ 53.         36.7901662 101.         10.175    ] Label: 0\n",
            "Coordinate: [28.         35.85581466 87.          8.576     ] Label: 0\n",
            "Coordinate: [43.         34.42217362 89.         23.194     ] Label: 0\n",
            "Coordinate: [51.         27.68877813 77.          3.855     ] Label: 0\n",
            "Coordinate: [67.         29.60676726 79.          5.819     ] Label: 0\n",
            "Coordinate: [66.        31.2385898 82.         4.181    ] Label: 0\n",
            "Coordinate: [ 69.          35.09270153 101.           5.646     ] Label: 0\n",
            "Coordinate: [ 60.          26.34929208 103.           5.138     ] Label: 0\n",
            "Coordinate: [77.         35.58792924 76.          3.881     ] Label: 0\n",
            "Coordinate: [76.        29.2184076 83.         5.376    ] Label: 0\n",
            "Coordinate: [76.   27.2  94.   14.07] Label: 0\n",
            "Coordinate: [75.    27.3   85.     5.197] Label: 0\n",
            "Coordinate: [69.   32.5  93.    5.43] Label: 0\n",
            "Coordinate: [ 71.    30.3  102.     8.34] Label: 0\n",
            "Coordinate: [66.    27.7   90.     6.042] Label: 0\n",
            "Coordinate: [75.    25.7   94.     8.079] Label: 0\n",
            "Coordinate: [78.    25.3   60.     3.508] Label: 0\n",
            "Coordinate: [69.    29.4   89.    10.704] Label: 0\n",
            "Coordinate: [85.    26.6   96.     4.462] Label: 0\n",
            "Coordinate: [ 76.     27.1   110.     26.211] Label: 0\n",
            "Coordinate: [77.   25.9  85.    4.58] Label: 0\n",
            "Coordinate: [ 45.          21.30394858 102.          13.852     ] Label: 0\n",
            "Coordinate: [45.         20.82999519 74.          4.56      ] Label: 0\n",
            "Coordinate: [49.        20.9566075 94.        12.305    ] Label: 0\n",
            "Coordinate: [34.         24.24242424 92.         21.699     ] Label: 0\n",
            "Coordinate: [42.         21.35991456 93.          2.999     ] Label: 0\n",
            "Coordinate: [ 68.          21.08281329 102.           6.2       ] Label: 0\n",
            "Coordinate: [51.         19.13265306 93.          4.364     ] Label: 0\n",
            "Coordinate: [62.      22.65625 92.       3.482  ] Label: 0\n",
            "Coordinate: [38.        22.4996371 95.         5.261    ] Label: 0\n",
            "Coordinate: [ 69.          21.51385851 112.           6.683     ] Label: 0\n",
            "Coordinate: [49.         21.36752137 78.          2.64      ] Label: 0\n",
            "Coordinate: [ 51.          22.89281998 103.           2.74      ] Label: 0\n",
            "Coordinate: [59.         22.83287935 98.          6.862     ] Label: 0\n",
            "Coordinate: [ 45.          23.14049587 116.           4.902     ] Label: 0\n",
            "Coordinate: [54.      24.21875 86.       3.73   ] Label: 0\n",
            "Coordinate: [64.         22.22222222 98.          5.7       ] Label: 0\n",
            "Coordinate: [46.   20.83 88.    3.42] Label: 0\n",
            "Coordinate: [ 44.    19.56 114.    15.89] Label: 0\n",
            "Coordinate: [45.   20.26 92.    3.44] Label: 0\n",
            "Coordinate: [ 44.    24.74 106.    58.46] Label: 0\n",
            "Coordinate: [ 51.    18.37 105.     6.03] Label: 0\n",
            "Coordinate: [ 72.    23.62 105.     4.42] Label: 0\n",
            "Coordinate: [46.   22.21 86.   36.94] Label: 0\n",
            "Coordinate: [ 43.      26.5625 101.      10.555 ] Label: 0\n",
            "Coordinate: [55.         31.97501487 92.         16.635     ] Label: 0\n",
            "Coordinate: [ 43.     31.25  103.      4.328] Label: 0\n",
            "Coordinate: [ 86.          26.66666667 201.          41.611     ] Label: 1\n",
            "Coordinate: [41.        26.6727633 97.        22.033    ] Label: 0\n",
            "Coordinate: [59.         28.67262608 77.          3.188     ] Label: 0\n",
            "Coordinate: [ 81.          31.64036818 100.           9.669     ] Label: 0\n",
            "Coordinate: [48.         32.46191136 99.         28.677     ] Label: 0\n",
            "Coordinate: [ 71.          25.51020408 112.          10.395     ] Label: 0\n",
            "Coordinate: [42.       29.296875 98.        4.172   ] Label: 0\n",
            "Coordinate: [65.       29.666548 85.       14.649   ] Label: 0\n",
            "Coordinate: [48.    28.125 90.     2.54 ] Label: 0\n",
            "Coordinate: [ 85.          27.68877813 196.          51.814     ] Label: 1\n",
            "Coordinate: [ 48.     31.25  199.     12.162] Label: 1\n",
            "Coordinate: [ 58.          29.15451895 139.          16.582     ] Label: 1\n",
            "Coordinate: [ 40.          30.83653053 128.          41.894     ] Label: 1\n",
            "Coordinate: [ 82.          31.21748179 100.          18.077     ] Label: 0\n",
            "Coordinate: [52.        30.8012487 87.        30.212    ] Label: 0\n",
            "Coordinate: [ 49.          32.46191136 134.          24.887     ] Label: 1\n",
            "Coordinate: [ 60.          31.23140988 131.          30.13      ] Label: 1\n",
            "Coordinate: [49.         29.77777778 70.          8.396     ] Label: 0\n",
            "Coordinate: [44.         27.88761707 99.          9.208     ] Label: 0\n",
            "Coordinate: [ 40.          27.63605442 103.           2.432     ] Label: 0\n",
            "Coordinate: [ 71.          27.91551882 104.          18.2       ] Label: 0\n",
            "Coordinate: [ 69.          28.44444444 108.           8.808     ] Label: 0\n",
            "Coordinate: [74.         28.65013774 88.          3.012     ] Label: 0\n",
            "Coordinate: [66.     26.5625 89.      6.524 ] Label: 0\n",
            "Coordinate: [65.         30.91557669 97.         10.491     ] Label: 0\n",
            "Coordinate: [72.         29.13631634 83.         10.949     ] Label: 0\n",
            "Coordinate: [57.         34.83814777 95.         12.548     ] Label: 0\n",
            "Coordinate: [ 73.        37.109375 134.         5.636   ] Label: 1\n",
            "Coordinate: [45.         29.38475666 90.          4.713     ] Label: 0\n",
            "Coordinate: [46.   33.18 92.    5.75] Label: 0\n",
            "Coordinate: [ 68.    35.56 131.     8.15] Label: 1\n",
            "Coordinate: [ 75.    30.48 152.     7.01] Label: 1\n",
            "Coordinate: [ 54.    36.05 119.    11.91] Label: 0\n",
            "Coordinate: [45.   26.85 92.    3.33] Label: 0\n",
            "Coordinate: [ 62.    26.84 100.     4.53] Label: 0\n",
            "Coordinate: [65.   32.05 97.    5.73] Label: 0\n",
            "Coordinate: [72.   25.59 82.    2.82] Label: 0\n",
            "Coordinate: [ 86.    27.18 138.    19.91] Label: 1\n"
          ]
        },
        {
          "data": {
            "image/png": "[encoded data removed]",
            "text/plain": [
              "<Figure size 640x480 with 1 Axes>"
            ]
          },
          "metadata": {},
          "output_type": "display_data"
        }
      ],
      "source": [
        "from sklearn.cluster import KMeans\n",
        "\n",
        "df = df.iloc[:,:-1]\n",
        "X = df.to_numpy()\n",
        "\n",
        "kmeans = KMeans(n_clusters=2, random_state=0, n_init=\"auto\").fit(X)\n",
        "centroids = kmeans.cluster_centers_\n",
        "labels = kmeans.labels_\n",
        "\n",
        "print(centroids)\n",
        "print(labels)\n",
        "\n",
        "for i in range(len(X)):\n",
        "  print('Coordinate:',X[i], 'Label:', labels[i])\n",
        "  plt.plot(X[i][0], X[i][1], colors[labels[i]],\n",
        "  markersize = 10)\n",
        "  # Plot the centroids using “x”\n",
        "  plt.scatter(centroids[:, 0],centroids[:, 1],\n",
        "  marker='x', s=150, linewidths=2, zorder=10)\n",
        "plt.show()"
      ]
    }
  ],
  "metadata": {
    "colab": {
      "provenance": []
    },
    "kernelspec": {
      "display_name": "Python 3 (ipykernel)",
      "language": "python",
      "name": "python3"
    },
    "language_info": {
      "codemirror_mode": {
        "name": "ipython",
        "version": 3
      },
      "file_extension": ".py",
      "mimetype": "text/x-python",
      "name": "python",
      "nbconvert_exporter": "python",
      "pygments_lexer": "ipython3",
      "version": "3.10.9"
    }
  },
  "nbformat": 4,
  "nbformat_minor": 5
}
