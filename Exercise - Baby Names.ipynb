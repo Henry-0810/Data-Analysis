{
  "cells": [
    {
      "cell_type": "markdown",
      "metadata": {},
      "source": [
        "# US Baby Names 1880-2010"
      ]
    },
    {
      "cell_type": "markdown",
      "metadata": {},
      "source": [
        "The baby names datasets are contained in the acompanying folder ./names (or [download here](http://www.ssa.gov/oact/babynames/limits.html)) they contain a list of the most frequent names given to newborn babies in the United States each year.\n",
        "There are many things you might want to do with the dataset:\n",
        "\n",
        "* Visualize the proportion of babies given a particular name (your own, or another name) over time.\n",
        "* Determine the relative rank of a name.\n",
        "* Determine the most popular names in each year or the names with largest increases or decreases.\n",
        "* Analyze trends in names: vowels, consonants, length, overall diversity, changes in spelling, first and last letters.\n",
        "* Analyze external sources of trends: biblical names, celebrities, demographic changes.\n",
        "\n",
        "In this exercise you are tasked with undertaking some analysis. I have started some of the steps for you and I have given some tips on what methods to use.\n"
      ]
    },
    {
      "cell_type": "markdown",
      "metadata": {},
      "source": [
        "## Task 1: Import Data"
      ]
    },
    {
      "cell_type": "markdown",
      "metadata": {},
      "source": [
        "As with most analysis we will need to import some libraries. For this analyis we want to reading the data, perform analysis and visualise the data. therefore the Pandas and matplotlib libraries are needed."
      ]
    },
    {
      "cell_type": "code",
      "execution_count": 1,
      "metadata": {
        "trusted": true
      },
      "outputs": [],
      "source": [
        "import pandas as pd\n",
        "import matplotlib.pyplot as plt"
      ]
    },
    {
      "cell_type": "markdown",
      "metadata": {},
      "source": [
        "First open a single file 1880 set the field headings to'name', 'sex', 'births' (hint use the pandas read_csv method)"
      ]
    },
    {
      "cell_type": "code",
      "execution_count": 2,
      "metadata": {
        "trusted": true
      },
      "outputs": [
        {
          "name": "stdout",
          "output_type": "stream",
          "text": [
            "           name sex  births\n",
            "1          Mary   F    7065\n",
            "2          Anna   F    2604\n",
            "3          Emma   F    2003\n",
            "4     Elizabeth   F    1939\n",
            "5        Minnie   F    1746\n",
            "...         ...  ..     ...\n",
            "1996     Woodie   M       5\n",
            "1997     Worthy   M       5\n",
            "1998     Wright   M       5\n",
            "1999       York   M       5\n",
            "2000  Zachariah   M       5\n",
            "\n",
            "[2000 rows x 3 columns]\n"
          ]
        }
      ],
      "source": [
        "columns = ['name', 'sex', 'births']\n",
        "\n",
        "df = pd.read_csv('./names/yob1880.txt', sep=',', names=columns) #Set header to name,sex,births\n",
        "\n",
        "df.index = df.index + 1 # Set first index to 1 instead of 0\n",
        "print(df)"
      ]
    },
    {
      "cell_type": "markdown",
      "metadata": {},
      "source": [
        "Now display the top 5 rows"
      ]
    },
    {
      "cell_type": "code",
      "execution_count": 3,
      "metadata": {
        "trusted": true
      },
      "outputs": [
        {
          "name": "stdout",
          "output_type": "stream",
          "text": [
            "        name sex  births\n",
            "1       Mary   F    7065\n",
            "2       Anna   F    2604\n",
            "3       Emma   F    2003\n",
            "4  Elizabeth   F    1939\n",
            "5     Minnie   F    1746\n"
          ]
        }
      ],
      "source": [
        "print(df.head(5))"
      ]
    },
    {
      "cell_type": "markdown",
      "metadata": {},
      "source": [
        "Often datasets span more than one file. \n",
        "\n",
        "In this example each year is in a seperate file, we need to combines all of this year data into a single pandas DataFrame and add a *year* field. Note that all .txt files must be stored as *./names*.\n",
        "\n",
        "This is a little challenging so I have completed this task below, make sure you understand how the code below operates."
      ]
    },
    {
      "cell_type": "code",
      "execution_count": 71,
      "metadata": {
        "trusted": true
      },
      "outputs": [],
      "source": [
        "years = range(1880, 2013)\n",
        "pieces = []\n",
        "columns = ['name', 'sex', 'births']\n",
        "\n",
        "for year in years:\n",
        "    path = \"./names/yob%d.txt\" % year\n",
        "    frame = pd.read_csv(path, names=columns)\n",
        "    frame['year'] = year\n",
        "    pieces.append(frame)\n",
        "\n",
        "# Concatenate everything into a single DataFrame\n",
        "names = pd.concat(pieces, ignore_index=True)\n"
      ]
    },
    {
      "cell_type": "markdown",
      "metadata": {},
      "source": [
        "Now display the first 5 records from the combined dataframe"
      ]
    },
    {
      "cell_type": "code",
      "execution_count": 5,
      "metadata": {
        "trusted": true
      },
      "outputs": [
        {
          "name": "stdout",
          "output_type": "stream",
          "text": [
            "        name sex  births  year\n",
            "0       Mary   F    7065  1880\n",
            "1       Anna   F    2604  1880\n",
            "2       Emma   F    2003  1880\n",
            "3  Elizabeth   F    1939  1880\n",
            "4     Minnie   F    1746  1880\n"
          ]
        }
      ],
      "source": [
        "print(names.head(5))"
      ]
    },
    {
      "cell_type": "markdown",
      "metadata": {},
      "source": [
        "## Task 2: Descriptive Statistics\n",
        "\n",
        "Descriptive statistics can give you great insight into the properties of each attribute. Often you can create more summaries than you have time to review. \n",
        "\n",
        "Display the following summary statistics.\n",
        "\n",
        "    Count.\n",
        "    Mean.\n",
        "    Standard Deviation.\n",
        "    Minimum Value.\n",
        "    25th Percentile.\n",
        "    50th Percentile (Median). 75th Percentile.\n",
        "    Maximum Value.\n",
        "\n"
      ]
    },
    {
      "cell_type": "code",
      "execution_count": 7,
      "metadata": {
        "trusted": true
      },
      "outputs": [
        {
          "name": "stdout",
          "output_type": "stream",
          "text": [
            "             births          year\n",
            "count  5.278866e+06  5.278866e+06\n",
            "mean   1.874828e+02  1.971086e+03\n",
            "std    1.590406e+03  3.318362e+01\n",
            "min    5.000000e+00  1.880000e+03\n",
            "25%    7.000000e+00  1.947000e+03\n",
            "50%    1.200000e+01  1.980000e+03\n",
            "75%    3.200000e+01  1.999000e+03\n",
            "max    9.968600e+04  2.012000e+03\n"
          ]
        }
      ],
      "source": [
        "# Statistical Summary\n",
        "years = range(1880, 2013)\n",
        "pieces = []\n",
        "columns = ['name', 'sex', 'births']\n",
        "\n",
        "for year in years:\n",
        "    path = \"./names/yob%d.txt\" % year\n",
        "    frame = pd.read_csv(path, names=columns)\n",
        "    frame['year'] = year\n",
        "    pieces.append(frame)\n",
        "\n",
        "# Concatenate everything into a single DataFrame\n",
        "names = pd.concat(pieces, ignore_index=True)\n",
        "\n",
        "print(names.describe())"
      ]
    },
    {
      "cell_type": "markdown",
      "metadata": {},
      "source": [
        "## Task 3: Data Aggregation"
      ]
    },
    {
      "cell_type": "markdown",
      "metadata": {},
      "source": [
        "We can now perform several types of aggregation. \n",
        "\n",
        "Create a new DataFrame containing the total number of births per year, split by sex. \n",
        "\n",
        "(Hint use the pivot_table method with the aggragate function sum property)"
      ]
    },
    {
      "cell_type": "code",
      "execution_count": 16,
      "metadata": {
        "trusted": true
      },
      "outputs": [
        {
          "name": "stdout",
          "output_type": "stream",
          "text": [
            "sex         F        M\n",
            "year                  \n",
            "1880   272979   331473\n",
            "1881   275859   302229\n",
            "1882   323541   341058\n",
            "1883   336957   313881\n",
            "1884   387060   343326\n",
            "...       ...      ...\n",
            "2008  5665821  6113253\n",
            "2009  5503797  5943117\n",
            "2010  5324274  5747826\n",
            "2011  5268012  5687730\n",
            "2012  5271984  5679402\n",
            "\n",
            "[133 rows x 2 columns]\n"
          ]
        }
      ],
      "source": [
        "df = pd.pivot_table(data=names, index='year', columns='sex', values='births', aggfunc='sum')\n",
        "\n",
        "print(df)"
      ]
    },
    {
      "cell_type": "markdown",
      "metadata": {},
      "source": [
        "Now display the first 5 records from the combined dataframe. Hint you can use the head() method."
      ]
    },
    {
      "cell_type": "code",
      "execution_count": 15,
      "metadata": {
        "trusted": true
      },
      "outputs": [
        {
          "name": "stdout",
          "output_type": "stream",
          "text": [
            "sex        F       M\n",
            "year                \n",
            "1880  272979  331473\n",
            "1881  275859  302229\n",
            "1882  323541  341058\n",
            "1883  336957  313881\n",
            "1884  387060  343326\n"
          ]
        }
      ],
      "source": [
        "print(df.head(5))"
      ]
    },
    {
      "cell_type": "markdown",
      "metadata": {},
      "source": [
        "## Task 4: Data Visualisation"
      ]
    },
    {
      "cell_type": "markdown",
      "metadata": {},
      "source": [
        "Using the *plot* function draw a figure to illustrate this DataFrame. \n",
        "\n",
        "Plot the genders in 2 seperate lines with year on the X axis and the number of births on the Y axis, Don't forget a title and axis labels."
      ]
    },
    {
      "cell_type": "code",
      "execution_count": 53,
      "metadata": {
        "trusted": true
      },
      "outputs": [
        {
          "data": {
            "image/png": "[encoded data removed]",
            "text/plain": [
              "<Figure size 640x480 with 1 Axes>"
            ]
          },
          "metadata": {},
          "output_type": "display_data"
        }
      ],
      "source": [
        "df = pd.pivot_table(data=names, index='year', columns='sex', values='births', aggfunc='sum')\n",
        "\n",
        "df.plot(kind='line')\n",
        "\n",
        "plt.xlabel(\"year\")\n",
        "\n",
        "plt.ylabel(\"births\")\n",
        "\n",
        "plt.title(\"Births per year seperated by sex\")\n",
        "\n",
        "plt.ticklabel_format(style='plain')\n",
        "\n",
        "plt.show()"
      ]
    },
    {
      "cell_type": "markdown",
      "metadata": {},
      "source": [
        "## Task 5: More Data Aggregation"
      ]
    },
    {
      "cell_type": "markdown",
      "metadata": {},
      "source": [
        "Now we would like to analyse how frequently the names *John*, *Michael*, *Mary*, *Mark*,*Jeremy* and *Amelia* occurr over time."
      ]
    },
    {
      "cell_type": "markdown",
      "metadata": {},
      "source": [
        "Redefine *total_births*, this time aggregating data by *name* rather than *sex*.\n",
        "\n",
        "Then define the subset of names that we are interested\n",
        "\n",
        "Finally plot each name in its own graph."
      ]
    },
    {
      "cell_type": "code",
      "execution_count": 92,
      "metadata": {
        "trusted": true
      },
      "outputs": [
        {
          "name": "stdout",
          "output_type": "stream",
          "text": [
            "name  Aaban  Aabha  Aabid  Aabriella  Aadam  Aadan  Aadarsh   Aaden  Aadesh  \\\n",
            "year                                                                          \n",
            "1880    NaN    NaN    NaN        NaN    NaN    NaN      NaN     NaN     NaN   \n",
            "1881    NaN    NaN    NaN        NaN    NaN    NaN      NaN     NaN     NaN   \n",
            "1882    NaN    NaN    NaN        NaN    NaN    NaN      NaN     NaN     NaN   \n",
            "1883    NaN    NaN    NaN        NaN    NaN    NaN      NaN     NaN     NaN   \n",
            "1884    NaN    NaN    NaN        NaN    NaN    NaN      NaN     NaN     NaN   \n",
            "...     ...    ...    ...        ...    ...    ...      ...     ...     ...   \n",
            "2008    NaN    NaN    NaN        5.0    6.0   22.0     13.0   956.0     NaN   \n",
            "2009    6.0    NaN    NaN        NaN    9.0   23.0     16.0  1272.0     5.0   \n",
            "2010    9.0    NaN    NaN        NaN    7.0   11.0      NaN   450.0     NaN   \n",
            "2011   11.0    7.0    NaN        NaN   17.0   11.0      7.0   275.0     5.0   \n",
            "2012   11.0    5.0    NaN        NaN   11.0   11.0     12.0   224.0     NaN   \n",
            "\n",
            "name  Aadhav  ...  Zyshawn  Zyshon  Zyshonne  Zytaevius  Zytaveon  Zytavion  \\\n",
            "year          ...                                                             \n",
            "1880     NaN  ...      NaN     NaN       NaN        NaN       NaN       NaN   \n",
            "1881     NaN  ...      NaN     NaN       NaN        NaN       NaN       NaN   \n",
            "1882     NaN  ...      NaN     NaN       NaN        NaN       NaN       NaN   \n",
            "1883     NaN  ...      NaN     NaN       NaN        NaN       NaN       NaN   \n",
            "1884     NaN  ...      NaN     NaN       NaN        NaN       NaN       NaN   \n",
            "...      ...  ...      ...     ...       ...        ...       ...       ...   \n",
            "2008     NaN  ...     14.0     NaN       NaN        NaN       NaN       NaN   \n",
            "2009     5.0  ...      7.0     NaN       NaN        NaN       NaN       NaN   \n",
            "2010    13.0  ...      9.0     NaN       NaN        NaN       NaN       NaN   \n",
            "2011     6.0  ...      5.0     NaN       NaN        NaN       8.0       5.0   \n",
            "2012    18.0  ...     10.0     NaN       NaN        5.0       NaN       NaN   \n",
            "\n",
            "name  Zytavious  Zyvion  Zyyanna  Zzyzx  \n",
            "year                                     \n",
            "1880        NaN     NaN      NaN    NaN  \n",
            "1881        NaN     NaN      NaN    NaN  \n",
            "1882        NaN     NaN      NaN    NaN  \n",
            "1883        NaN     NaN      NaN    NaN  \n",
            "1884        NaN     NaN      NaN    NaN  \n",
            "...         ...     ...      ...    ...  \n",
            "2008        NaN     NaN      NaN    NaN  \n",
            "2009        7.0     5.0      NaN    NaN  \n",
            "2010        6.0     NaN      6.0    5.0  \n",
            "2011        NaN     NaN      NaN    NaN  \n",
            "2012        NaN     NaN      NaN    NaN  \n",
            "\n",
            "[133 rows x 91416 columns]\n"
          ]
        },
        {
          "ename": "ValueError",
          "evalue": "Grouper and axis must be same length",
          "output_type": "error",
          "traceback": [
            "\u001b[1;31m---------------------------------------------------------------------------\u001b[0m",
            "\u001b[1;31mValueError\u001b[0m                                Traceback (most recent call last)",
            "\u001b[1;32mc:\\Users\\t00229172\\VsCode\\Data Analysis\\Exercise - Baby Names.ipynb Cell 27\u001b[0m line \u001b[0;36m7\n\u001b[0;32m      <a href='vscode-notebook-cell:/c%3A/Users/t00229172/VsCode/Data%20Analysis/Exercise%20-%20Baby%20Names.ipynb#X35sZmlsZQ%3D%3D?line=3'>4</a>\u001b[0m designated_Names \u001b[39m=\u001b[39m [\u001b[39m'\u001b[39m\u001b[39mJohn\u001b[39m\u001b[39m'\u001b[39m, \u001b[39m'\u001b[39m\u001b[39mMichael\u001b[39m\u001b[39m'\u001b[39m, \u001b[39m'\u001b[39m\u001b[39mMary\u001b[39m\u001b[39m'\u001b[39m, \u001b[39m'\u001b[39m\u001b[39mMark\u001b[39m\u001b[39m'\u001b[39m, \u001b[39m'\u001b[39m\u001b[39mJeremy\u001b[39m\u001b[39m'\u001b[39m, \u001b[39m'\u001b[39m\u001b[39mAmelia\u001b[39m\u001b[39m'\u001b[39m]\n\u001b[0;32m      <a href='vscode-notebook-cell:/c%3A/Users/t00229172/VsCode/Data%20Analysis/Exercise%20-%20Baby%20Names.ipynb#X35sZmlsZQ%3D%3D?line=5'>6</a>\u001b[0m \u001b[39m# filter by designated names\u001b[39;00m\n\u001b[1;32m----> <a href='vscode-notebook-cell:/c%3A/Users/t00229172/VsCode/Data%20Analysis/Exercise%20-%20Baby%20Names.ipynb#X35sZmlsZQ%3D%3D?line=6'>7</a>\u001b[0m df \u001b[39m=\u001b[39m names\u001b[39m.\u001b[39;49mpivot_table(index\u001b[39m=\u001b[39;49m\u001b[39m\"\u001b[39;49m\u001b[39myear\u001b[39;49m\u001b[39m\"\u001b[39;49m, columns\u001b[39m=\u001b[39;49mdf\u001b[39m.\u001b[39;49mcolumns\u001b[39m.\u001b[39;49misin(designated_Names), values\u001b[39m=\u001b[39;49m\u001b[39m\"\u001b[39;49m\u001b[39mbirths\u001b[39;49m\u001b[39m\"\u001b[39;49m, aggfunc\u001b[39m=\u001b[39;49m\u001b[39m\"\u001b[39;49m\u001b[39msum\u001b[39;49m\u001b[39m\"\u001b[39;49m)\n\u001b[0;32m      <a href='vscode-notebook-cell:/c%3A/Users/t00229172/VsCode/Data%20Analysis/Exercise%20-%20Baby%20Names.ipynb#X35sZmlsZQ%3D%3D?line=7'>8</a>\u001b[0m \u001b[39mprint\u001b[39m(df)\n",
            "File \u001b[1;32mc:\\ProgramData\\anaconda3\\lib\\site-packages\\pandas\\core\\frame.py:8731\u001b[0m, in \u001b[0;36mDataFrame.pivot_table\u001b[1;34m(self, values, index, columns, aggfunc, fill_value, margins, dropna, margins_name, observed, sort)\u001b[0m\n\u001b[0;32m   8714\u001b[0m \u001b[39m@Substitution\u001b[39m(\u001b[39m\"\u001b[39m\u001b[39m\"\u001b[39m)\n\u001b[0;32m   8715\u001b[0m \u001b[39m@Appender\u001b[39m(_shared_docs[\u001b[39m\"\u001b[39m\u001b[39mpivot_table\u001b[39m\u001b[39m\"\u001b[39m])\n\u001b[0;32m   8716\u001b[0m \u001b[39mdef\u001b[39;00m \u001b[39mpivot_table\u001b[39m(\n\u001b[1;32m   (...)\u001b[0m\n\u001b[0;32m   8727\u001b[0m     sort\u001b[39m=\u001b[39m\u001b[39mTrue\u001b[39;00m,\n\u001b[0;32m   8728\u001b[0m ) \u001b[39m-\u001b[39m\u001b[39m>\u001b[39m DataFrame:\n\u001b[0;32m   8729\u001b[0m     \u001b[39mfrom\u001b[39;00m \u001b[39mpandas\u001b[39;00m\u001b[39m.\u001b[39;00m\u001b[39mcore\u001b[39;00m\u001b[39m.\u001b[39;00m\u001b[39mreshape\u001b[39;00m\u001b[39m.\u001b[39;00m\u001b[39mpivot\u001b[39;00m \u001b[39mimport\u001b[39;00m pivot_table\n\u001b[1;32m-> 8731\u001b[0m     \u001b[39mreturn\u001b[39;00m pivot_table(\n\u001b[0;32m   8732\u001b[0m         \u001b[39mself\u001b[39;49m,\n\u001b[0;32m   8733\u001b[0m         values\u001b[39m=\u001b[39;49mvalues,\n\u001b[0;32m   8734\u001b[0m         index\u001b[39m=\u001b[39;49mindex,\n\u001b[0;32m   8735\u001b[0m         columns\u001b[39m=\u001b[39;49mcolumns,\n\u001b[0;32m   8736\u001b[0m         aggfunc\u001b[39m=\u001b[39;49maggfunc,\n\u001b[0;32m   8737\u001b[0m         fill_value\u001b[39m=\u001b[39;49mfill_value,\n\u001b[0;32m   8738\u001b[0m         margins\u001b[39m=\u001b[39;49mmargins,\n\u001b[0;32m   8739\u001b[0m         dropna\u001b[39m=\u001b[39;49mdropna,\n\u001b[0;32m   8740\u001b[0m         margins_name\u001b[39m=\u001b[39;49mmargins_name,\n\u001b[0;32m   8741\u001b[0m         observed\u001b[39m=\u001b[39;49mobserved,\n\u001b[0;32m   8742\u001b[0m         sort\u001b[39m=\u001b[39;49msort,\n\u001b[0;32m   8743\u001b[0m     )\n",
            "File \u001b[1;32mc:\\ProgramData\\anaconda3\\lib\\site-packages\\pandas\\core\\reshape\\pivot.py:97\u001b[0m, in \u001b[0;36mpivot_table\u001b[1;34m(data, values, index, columns, aggfunc, fill_value, margins, dropna, margins_name, observed, sort)\u001b[0m\n\u001b[0;32m     94\u001b[0m     table \u001b[39m=\u001b[39m concat(pieces, keys\u001b[39m=\u001b[39mkeys, axis\u001b[39m=\u001b[39m\u001b[39m1\u001b[39m)\n\u001b[0;32m     95\u001b[0m     \u001b[39mreturn\u001b[39;00m table\u001b[39m.\u001b[39m__finalize__(data, method\u001b[39m=\u001b[39m\u001b[39m\"\u001b[39m\u001b[39mpivot_table\u001b[39m\u001b[39m\"\u001b[39m)\n\u001b[1;32m---> 97\u001b[0m table \u001b[39m=\u001b[39m __internal_pivot_table(\n\u001b[0;32m     98\u001b[0m     data,\n\u001b[0;32m     99\u001b[0m     values,\n\u001b[0;32m    100\u001b[0m     index,\n\u001b[0;32m    101\u001b[0m     columns,\n\u001b[0;32m    102\u001b[0m     aggfunc,\n\u001b[0;32m    103\u001b[0m     fill_value,\n\u001b[0;32m    104\u001b[0m     margins,\n\u001b[0;32m    105\u001b[0m     dropna,\n\u001b[0;32m    106\u001b[0m     margins_name,\n\u001b[0;32m    107\u001b[0m     observed,\n\u001b[0;32m    108\u001b[0m     sort,\n\u001b[0;32m    109\u001b[0m )\n\u001b[0;32m    110\u001b[0m \u001b[39mreturn\u001b[39;00m table\u001b[39m.\u001b[39m__finalize__(data, method\u001b[39m=\u001b[39m\u001b[39m\"\u001b[39m\u001b[39mpivot_table\u001b[39m\u001b[39m\"\u001b[39m)\n",
            "File \u001b[1;32mc:\\ProgramData\\anaconda3\\lib\\site-packages\\pandas\\core\\reshape\\pivot.py:166\u001b[0m, in \u001b[0;36m__internal_pivot_table\u001b[1;34m(data, values, index, columns, aggfunc, fill_value, margins, dropna, margins_name, observed, sort)\u001b[0m\n\u001b[0;32m    163\u001b[0m             \u001b[39mpass\u001b[39;00m\n\u001b[0;32m    164\u001b[0m     values \u001b[39m=\u001b[39m \u001b[39mlist\u001b[39m(values)\n\u001b[1;32m--> 166\u001b[0m grouped \u001b[39m=\u001b[39m data\u001b[39m.\u001b[39;49mgroupby(keys, observed\u001b[39m=\u001b[39;49mobserved, sort\u001b[39m=\u001b[39;49msort)\n\u001b[0;32m    167\u001b[0m msg \u001b[39m=\u001b[39m (\n\u001b[0;32m    168\u001b[0m     \u001b[39m\"\u001b[39m\u001b[39mpivot_table dropped a column because it failed to aggregate. This behavior \u001b[39m\u001b[39m\"\u001b[39m\n\u001b[0;32m    169\u001b[0m     \u001b[39m\"\u001b[39m\u001b[39mis deprecated and will raise in a future version of pandas. Select only the \u001b[39m\u001b[39m\"\u001b[39m\n\u001b[0;32m    170\u001b[0m     \u001b[39m\"\u001b[39m\u001b[39mcolumns that can be aggregated.\u001b[39m\u001b[39m\"\u001b[39m\n\u001b[0;32m    171\u001b[0m )\n\u001b[0;32m    172\u001b[0m \u001b[39mwith\u001b[39;00m rewrite_warning(\n\u001b[0;32m    173\u001b[0m     target_message\u001b[39m=\u001b[39m\u001b[39m\"\u001b[39m\u001b[39mThe default value of numeric_only\u001b[39m\u001b[39m\"\u001b[39m,\n\u001b[0;32m    174\u001b[0m     target_category\u001b[39m=\u001b[39m\u001b[39mFutureWarning\u001b[39;00m,\n\u001b[0;32m    175\u001b[0m     new_message\u001b[39m=\u001b[39mmsg,\n\u001b[0;32m    176\u001b[0m ):\n",
            "File \u001b[1;32mc:\\ProgramData\\anaconda3\\lib\\site-packages\\pandas\\core\\frame.py:8402\u001b[0m, in \u001b[0;36mDataFrame.groupby\u001b[1;34m(self, by, axis, level, as_index, sort, group_keys, squeeze, observed, dropna)\u001b[0m\n\u001b[0;32m   8399\u001b[0m     \u001b[39mraise\u001b[39;00m \u001b[39mTypeError\u001b[39;00m(\u001b[39m\"\u001b[39m\u001b[39mYou have to supply one of \u001b[39m\u001b[39m'\u001b[39m\u001b[39mby\u001b[39m\u001b[39m'\u001b[39m\u001b[39m and \u001b[39m\u001b[39m'\u001b[39m\u001b[39mlevel\u001b[39m\u001b[39m'\u001b[39m\u001b[39m\"\u001b[39m)\n\u001b[0;32m   8400\u001b[0m axis \u001b[39m=\u001b[39m \u001b[39mself\u001b[39m\u001b[39m.\u001b[39m_get_axis_number(axis)\n\u001b[1;32m-> 8402\u001b[0m \u001b[39mreturn\u001b[39;00m DataFrameGroupBy(\n\u001b[0;32m   8403\u001b[0m     obj\u001b[39m=\u001b[39;49m\u001b[39mself\u001b[39;49m,\n\u001b[0;32m   8404\u001b[0m     keys\u001b[39m=\u001b[39;49mby,\n\u001b[0;32m   8405\u001b[0m     axis\u001b[39m=\u001b[39;49maxis,\n\u001b[0;32m   8406\u001b[0m     level\u001b[39m=\u001b[39;49mlevel,\n\u001b[0;32m   8407\u001b[0m     as_index\u001b[39m=\u001b[39;49mas_index,\n\u001b[0;32m   8408\u001b[0m     sort\u001b[39m=\u001b[39;49msort,\n\u001b[0;32m   8409\u001b[0m     group_keys\u001b[39m=\u001b[39;49mgroup_keys,\n\u001b[0;32m   8410\u001b[0m     squeeze\u001b[39m=\u001b[39;49msqueeze,\n\u001b[0;32m   8411\u001b[0m     observed\u001b[39m=\u001b[39;49mobserved,\n\u001b[0;32m   8412\u001b[0m     dropna\u001b[39m=\u001b[39;49mdropna,\n\u001b[0;32m   8413\u001b[0m )\n",
            "File \u001b[1;32mc:\\ProgramData\\anaconda3\\lib\\site-packages\\pandas\\core\\groupby\\groupby.py:965\u001b[0m, in \u001b[0;36mGroupBy.__init__\u001b[1;34m(self, obj, keys, axis, level, grouper, exclusions, selection, as_index, sort, group_keys, squeeze, observed, mutated, dropna)\u001b[0m\n\u001b[0;32m    962\u001b[0m \u001b[39mif\u001b[39;00m grouper \u001b[39mis\u001b[39;00m \u001b[39mNone\u001b[39;00m:\n\u001b[0;32m    963\u001b[0m     \u001b[39mfrom\u001b[39;00m \u001b[39mpandas\u001b[39;00m\u001b[39m.\u001b[39;00m\u001b[39mcore\u001b[39;00m\u001b[39m.\u001b[39;00m\u001b[39mgroupby\u001b[39;00m\u001b[39m.\u001b[39;00m\u001b[39mgrouper\u001b[39;00m \u001b[39mimport\u001b[39;00m get_grouper\n\u001b[1;32m--> 965\u001b[0m     grouper, exclusions, obj \u001b[39m=\u001b[39m get_grouper(\n\u001b[0;32m    966\u001b[0m         obj,\n\u001b[0;32m    967\u001b[0m         keys,\n\u001b[0;32m    968\u001b[0m         axis\u001b[39m=\u001b[39;49maxis,\n\u001b[0;32m    969\u001b[0m         level\u001b[39m=\u001b[39;49mlevel,\n\u001b[0;32m    970\u001b[0m         sort\u001b[39m=\u001b[39;49msort,\n\u001b[0;32m    971\u001b[0m         observed\u001b[39m=\u001b[39;49mobserved,\n\u001b[0;32m    972\u001b[0m         mutated\u001b[39m=\u001b[39;49m\u001b[39mself\u001b[39;49m\u001b[39m.\u001b[39;49mmutated,\n\u001b[0;32m    973\u001b[0m         dropna\u001b[39m=\u001b[39;49m\u001b[39mself\u001b[39;49m\u001b[39m.\u001b[39;49mdropna,\n\u001b[0;32m    974\u001b[0m     )\n\u001b[0;32m    976\u001b[0m \u001b[39mself\u001b[39m\u001b[39m.\u001b[39mobj \u001b[39m=\u001b[39m obj\n\u001b[0;32m    977\u001b[0m \u001b[39mself\u001b[39m\u001b[39m.\u001b[39maxis \u001b[39m=\u001b[39m obj\u001b[39m.\u001b[39m_get_axis_number(axis)\n",
            "File \u001b[1;32mc:\\ProgramData\\anaconda3\\lib\\site-packages\\pandas\\core\\groupby\\grouper.py:899\u001b[0m, in \u001b[0;36mget_grouper\u001b[1;34m(obj, key, axis, level, sort, observed, mutated, validate, dropna)\u001b[0m\n\u001b[0;32m    894\u001b[0m         in_axis \u001b[39m=\u001b[39m \u001b[39mFalse\u001b[39;00m\n\u001b[0;32m    896\u001b[0m     \u001b[39m# create the Grouping\u001b[39;00m\n\u001b[0;32m    897\u001b[0m     \u001b[39m# allow us to passing the actual Grouping as the gpr\u001b[39;00m\n\u001b[0;32m    898\u001b[0m     ping \u001b[39m=\u001b[39m (\n\u001b[1;32m--> 899\u001b[0m         Grouping(\n\u001b[0;32m    900\u001b[0m             group_axis,\n\u001b[0;32m    901\u001b[0m             gpr,\n\u001b[0;32m    902\u001b[0m             obj\u001b[39m=\u001b[39;49mobj,\n\u001b[0;32m    903\u001b[0m             level\u001b[39m=\u001b[39;49mlevel,\n\u001b[0;32m    904\u001b[0m             sort\u001b[39m=\u001b[39;49msort,\n\u001b[0;32m    905\u001b[0m             observed\u001b[39m=\u001b[39;49mobserved,\n\u001b[0;32m    906\u001b[0m             in_axis\u001b[39m=\u001b[39;49min_axis,\n\u001b[0;32m    907\u001b[0m             dropna\u001b[39m=\u001b[39;49mdropna,\n\u001b[0;32m    908\u001b[0m         )\n\u001b[0;32m    909\u001b[0m         \u001b[39mif\u001b[39;00m \u001b[39mnot\u001b[39;00m \u001b[39misinstance\u001b[39m(gpr, Grouping)\n\u001b[0;32m    910\u001b[0m         \u001b[39melse\u001b[39;00m gpr\n\u001b[0;32m    911\u001b[0m     )\n\u001b[0;32m    913\u001b[0m     groupings\u001b[39m.\u001b[39mappend(ping)\n\u001b[0;32m    915\u001b[0m \u001b[39mif\u001b[39;00m \u001b[39mlen\u001b[39m(groupings) \u001b[39m==\u001b[39m \u001b[39m0\u001b[39m \u001b[39mand\u001b[39;00m \u001b[39mlen\u001b[39m(obj):\n",
            "File \u001b[1;32mc:\\ProgramData\\anaconda3\\lib\\site-packages\\pandas\\core\\groupby\\grouper.py:480\u001b[0m, in \u001b[0;36mGrouping.__init__\u001b[1;34m(self, index, grouper, obj, level, sort, observed, in_axis, dropna)\u001b[0m\n\u001b[0;32m    478\u001b[0m \u001b[39mself\u001b[39m\u001b[39m.\u001b[39mlevel \u001b[39m=\u001b[39m level\n\u001b[0;32m    479\u001b[0m \u001b[39mself\u001b[39m\u001b[39m.\u001b[39m_orig_grouper \u001b[39m=\u001b[39m grouper\n\u001b[1;32m--> 480\u001b[0m \u001b[39mself\u001b[39m\u001b[39m.\u001b[39mgrouping_vector \u001b[39m=\u001b[39m _convert_grouper(index, grouper)\n\u001b[0;32m    481\u001b[0m \u001b[39mself\u001b[39m\u001b[39m.\u001b[39m_all_grouper \u001b[39m=\u001b[39m \u001b[39mNone\u001b[39;00m\n\u001b[0;32m    482\u001b[0m \u001b[39mself\u001b[39m\u001b[39m.\u001b[39m_index \u001b[39m=\u001b[39m index\n",
            "File \u001b[1;32mc:\\ProgramData\\anaconda3\\lib\\site-packages\\pandas\\core\\groupby\\grouper.py:943\u001b[0m, in \u001b[0;36m_convert_grouper\u001b[1;34m(axis, grouper)\u001b[0m\n\u001b[0;32m    941\u001b[0m \u001b[39melif\u001b[39;00m \u001b[39misinstance\u001b[39m(grouper, (\u001b[39mlist\u001b[39m, \u001b[39mtuple\u001b[39m, Index, Categorical, np\u001b[39m.\u001b[39mndarray)):\n\u001b[0;32m    942\u001b[0m     \u001b[39mif\u001b[39;00m \u001b[39mlen\u001b[39m(grouper) \u001b[39m!=\u001b[39m \u001b[39mlen\u001b[39m(axis):\n\u001b[1;32m--> 943\u001b[0m         \u001b[39mraise\u001b[39;00m \u001b[39mValueError\u001b[39;00m(\u001b[39m\"\u001b[39m\u001b[39mGrouper and axis must be same length\u001b[39m\u001b[39m\"\u001b[39m)\n\u001b[0;32m    945\u001b[0m     \u001b[39mif\u001b[39;00m \u001b[39misinstance\u001b[39m(grouper, (\u001b[39mlist\u001b[39m, \u001b[39mtuple\u001b[39m)):\n\u001b[0;32m    946\u001b[0m         grouper \u001b[39m=\u001b[39m com\u001b[39m.\u001b[39masarray_tuplesafe(grouper)\n",
            "\u001b[1;31mValueError\u001b[0m: Grouper and axis must be same length"
          ]
        }
      ],
      "source": [
        "df = names.pivot_table(index=\"year\", columns=\"name\", values=\"births\", aggfunc=\"sum\")\n",
        "print(df)\n",
        "\n",
        "designated_Names = ['John', 'Michael', 'Mary', 'Mark', 'Jeremy', 'Amelia']\n",
        "\n",
        "# filter by designated names\n",
        "df = names.pivot_table(index=\"year\", columns=df.columns.isin(designated_Names), values=\"births\", aggfunc=\"sum\")\n",
        "print(df) "
      ]
    },
    {
      "cell_type": "markdown",
      "metadata": {},
      "source": [
        "## Task 6: Data Distrabution"
      ]
    },
    {
      "cell_type": "markdown",
      "metadata": {},
      "source": [
        "Next we need to look at how the distribution of boy names by final letter has changed over the last 100 years. \n",
        "\n",
        "To see this, first aggregate all of the births in the full dataset by year, sex, and final letter.\n",
        "\n",
        "(This is a bit tricky so I have done some of the difficult bits)"
      ]
    },
    {
      "cell_type": "code",
      "execution_count": 10,
      "metadata": {
        "trusted": true
      },
      "outputs": [],
      "source": [
        "# extract last letter from name column\n",
        "get_last_letter = lambda x: x[-1]\n",
        "last_letters = names.name.map(get_last_letter)\n",
        "last_letters.name = 'last_letter'\n",
        "table = names.pivot_table('births',last_letters,['sex', 'year'], aggfunc=sum)\n"
      ]
    },
    {
      "cell_type": "markdown",
      "metadata": {},
      "source": [
        "Then we select a few representative years 1912, 1962, 2012, spanning 100 years in total, display the first 5 records in a table:\n",
        "\n",
        "(Hint: use the reindex method https://pandas.pydata.org/pandas-docs/stable/reference/api/pandas.DataFrame.reindex.html)"
      ]
    },
    {
      "cell_type": "code",
      "execution_count": null,
      "metadata": {
        "trusted": true
      },
      "outputs": [],
      "source": []
    },
    {
      "cell_type": "markdown",
      "metadata": {},
      "source": [
        "Now, we normalize the table by the number of births, so as to obtain the proportion of total births for each sex ending in each letter: \n",
        "\n",
        "There are functions in python for normalisation but we haven't covered them yet. Here we will just simply divide each value by the aggragated sum for that table. i.e. divide each subtable by the total "
      ]
    },
    {
      "cell_type": "code",
      "execution_count": 12,
      "metadata": {
        "trusted": true
      },
      "outputs": [
        {
          "data": {
            "text/html": [
              "<div>\n",
              "<style scoped>\n",
              "    .dataframe tbody tr th:only-of-type {\n",
              "        vertical-align: middle;\n",
              "    }\n",
              "\n",
              "    .dataframe tbody tr th {\n",
              "        vertical-align: top;\n",
              "    }\n",
              "\n",
              "    .dataframe thead tr th {\n",
              "        text-align: left;\n",
              "    }\n",
              "\n",
              "    .dataframe thead tr:last-of-type th {\n",
              "        text-align: right;\n",
              "    }\n",
              "</style>\n",
              "<table border=\"1\" class=\"dataframe\">\n",
              "  <thead>\n",
              "    <tr>\n",
              "      <th>sex</th>\n",
              "      <th colspan=\"3\" halign=\"left\">F</th>\n",
              "      <th colspan=\"3\" halign=\"left\">M</th>\n",
              "    </tr>\n",
              "    <tr>\n",
              "      <th>year</th>\n",
              "      <th>1912</th>\n",
              "      <th>1962</th>\n",
              "      <th>2012</th>\n",
              "      <th>1912</th>\n",
              "      <th>1962</th>\n",
              "      <th>2012</th>\n",
              "    </tr>\n",
              "    <tr>\n",
              "      <th>last_letter</th>\n",
              "      <th></th>\n",
              "      <th></th>\n",
              "      <th></th>\n",
              "      <th></th>\n",
              "      <th></th>\n",
              "      <th></th>\n",
              "    </tr>\n",
              "  </thead>\n",
              "  <tbody>\n",
              "    <tr>\n",
              "      <th>a</th>\n",
              "      <td>0.267288</td>\n",
              "      <td>0.347073</td>\n",
              "      <td>0.372450</td>\n",
              "      <td>0.003849</td>\n",
              "      <td>0.002577</td>\n",
              "      <td>0.014368</td>\n",
              "    </tr>\n",
              "    <tr>\n",
              "      <th>b</th>\n",
              "      <td>NaN</td>\n",
              "      <td>0.000233</td>\n",
              "      <td>0.000268</td>\n",
              "      <td>0.002147</td>\n",
              "      <td>0.001672</td>\n",
              "      <td>0.018333</td>\n",
              "    </tr>\n",
              "    <tr>\n",
              "      <th>c</th>\n",
              "      <td>NaN</td>\n",
              "      <td>0.000037</td>\n",
              "      <td>0.000703</td>\n",
              "      <td>0.002449</td>\n",
              "      <td>0.008644</td>\n",
              "      <td>0.012819</td>\n",
              "    </tr>\n",
              "    <tr>\n",
              "      <th>d</th>\n",
              "      <td>0.018854</td>\n",
              "      <td>0.001868</td>\n",
              "      <td>0.001440</td>\n",
              "      <td>0.125806</td>\n",
              "      <td>0.120849</td>\n",
              "      <td>0.022427</td>\n",
              "    </tr>\n",
              "    <tr>\n",
              "      <th>e</th>\n",
              "      <td>0.323448</td>\n",
              "      <td>0.215983</td>\n",
              "      <td>0.182395</td>\n",
              "      <td>0.127262</td>\n",
              "      <td>0.079738</td>\n",
              "      <td>0.067840</td>\n",
              "    </tr>\n",
              "  </tbody>\n",
              "</table>\n",
              "</div>"
            ],
            "text/plain": [
              "sex                 F                             M                    \n",
              "year             1912      1962      2012      1912      1962      2012\n",
              "last_letter                                                            \n",
              "a            0.267288  0.347073  0.372450  0.003849  0.002577  0.014368\n",
              "b                 NaN  0.000233  0.000268  0.002147  0.001672  0.018333\n",
              "c                 NaN  0.000037  0.000703  0.002449  0.008644  0.012819\n",
              "d            0.018854  0.001868  0.001440  0.125806  0.120849  0.022427\n",
              "e            0.323448  0.215983  0.182395  0.127262  0.079738  0.067840"
            ]
          },
          "execution_count": 12,
          "metadata": {},
          "output_type": "execute_result"
        }
      ],
      "source": [
        "letter_prop = subtable / subtable.sum().astype(float)\n",
        "letter_prop.head()"
      ]
    },
    {
      "cell_type": "markdown",
      "metadata": {},
      "source": [
        "Finally make <b>bar plots</b> for each sex broken-down by year\n"
      ]
    },
    {
      "cell_type": "code",
      "execution_count": 13,
      "metadata": {
        "trusted": true
      },
      "outputs": [
        {
          "data": {
            "text/plain": [
              "<matplotlib.axes._subplots.AxesSubplot at 0x7f5cd89afeb8>"
            ]
          },
          "execution_count": 13,
          "metadata": {},
          "output_type": "execute_result"
        },
        {
          "data": {
            "image/png": "[encoded data removed]",
            "text/plain": [
              "<Figure size 792x720 with 2 Axes>"
            ]
          },
          "metadata": {
            "needs_background": "light"
          },
          "output_type": "display_data"
        }
      ],
      "source": [
        "fig, axes = plt.subplots(2, 1, figsize=(11, 10))\n",
        "letter_prop['M'].plot(kind='bar', rot=0, ax=axes[0], title='Male')\n",
        "letter_prop['F'].plot(kind='bar', rot=0, ax=axes[1], title='Female',legend=False)\n"
      ]
    }
  ],
  "metadata": {
    "kernelspec": {
      "display_name": "base",
      "language": "python",
      "name": "python3"
    },
    "language_info": {
      "codemirror_mode": {
        "name": "ipython",
        "version": 3
      },
      "file_extension": ".py",
      "mimetype": "text/x-python",
      "name": "python",
      "nbconvert_exporter": "python",
      "pygments_lexer": "ipython3",
      "version": "3.10.9"
    }
  },
  "nbformat": 4,
  "nbformat_minor": 1
}
