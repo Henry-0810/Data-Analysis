{
 "cells": [
  {
   "cell_type": "markdown",
   "id": "e4acaeb4",
   "metadata": {},
   "source": [
    "# Association Analysis\n",
    "\n",
    "## Introduction\n",
    "\n",
    "Apriori algorithm is the perfect algorithm to start with association analysis as it is not just easy to understand and interpret but also to implement.\n",
    "\n",
    "Python has many libraries for apriori implementation. One can implement the algorithm from scratch. The mlxtend  library implementation of apriori and allows us to extract association rules from data.\n",
    "\n"
   ]
  },
  {
   "cell_type": "markdown",
   "id": "2171a71f",
   "metadata": {},
   "source": [
    "## Question 1\n",
    "Import the required python libraries\n",
    "We will make use of the following python libraries (note you may need to use pip or conda)\n",
    "\n",
    "1. pandas and numpy?\n",
    "2. mlxtend or ML extended will be used for apriori implementation and extracting association rules.\n",
    "3. And matplotlib for visualizing results\n",
    "\n",
    "Read data from retail_data.csv available on the lab folder and print the first 10 rows.\n",
    "\n"
   ]
  },
  {
   "cell_type": "code",
   "execution_count": 36,
   "id": "5f766c64",
   "metadata": {},
   "outputs": [
    {
     "ename": "ModuleNotFoundError",
     "evalue": "No module named 'mlxtend'",
     "output_type": "error",
     "traceback": [
      "\u001b[1;31m---------------------------------------------------------------------------\u001b[0m",
      "\u001b[1;31mModuleNotFoundError\u001b[0m                       Traceback (most recent call last)",
      "\u001b[1;32m~\\AppData\\Local\\Temp/ipykernel_6476/1295827477.py\u001b[0m in \u001b[0;36m<module>\u001b[1;34m\u001b[0m\n\u001b[0;32m      2\u001b[0m \u001b[1;32mimport\u001b[0m \u001b[0mpandas\u001b[0m \u001b[1;32mas\u001b[0m \u001b[0mpd\u001b[0m\u001b[1;33m\u001b[0m\u001b[1;33m\u001b[0m\u001b[0m\n\u001b[0;32m      3\u001b[0m \u001b[1;32mimport\u001b[0m \u001b[0mnumpy\u001b[0m \u001b[1;32mas\u001b[0m \u001b[0mnp\u001b[0m\u001b[1;33m\u001b[0m\u001b[1;33m\u001b[0m\u001b[0m\n\u001b[1;32m----> 4\u001b[1;33m \u001b[1;32mfrom\u001b[0m \u001b[0mmlxtend\u001b[0m\u001b[1;33m.\u001b[0m\u001b[0mfrequent_patterns\u001b[0m \u001b[1;32mimport\u001b[0m \u001b[0mapriori\u001b[0m\u001b[1;33m,\u001b[0m \u001b[0massociation_rules\u001b[0m\u001b[1;33m\u001b[0m\u001b[1;33m\u001b[0m\u001b[0m\n\u001b[0m\u001b[0;32m      5\u001b[0m \u001b[1;32mimport\u001b[0m \u001b[0mmatplotlib\u001b[0m\u001b[1;33m.\u001b[0m\u001b[0mpyplot\u001b[0m \u001b[1;32mas\u001b[0m \u001b[0mplt\u001b[0m\u001b[1;33m\u001b[0m\u001b[1;33m\u001b[0m\u001b[0m\n",
      "\u001b[1;31mModuleNotFoundError\u001b[0m: No module named 'mlxtend'"
     ]
    }
   ],
   "source": [
    "!pip install mlxtend\n",
    "import pandas as pd\n",
    "import numpy as np\n",
    "from mlxtend.frequent_patterns import apriori, association_rules\n",
    "import matplotlib.pyplot as plt\n"
   ]
  },
  {
   "cell_type": "code",
   "execution_count": 37,
   "id": "cbda66fd",
   "metadata": {},
   "outputs": [],
   "source": [
    "## read data from the csv file on local system.\n",
    "\n",
    "\n",
    "## Print first 10 rows \n"
   ]
  },
  {
   "cell_type": "markdown",
   "id": "83127749",
   "metadata": {},
   "source": [
    "## Question 2\n",
    "Each row of the dataset represents items that were purchased together on the same day at the same store.The dataset is a sparse dataset as relatively high percentage of data is NA or NaN or equivalent. These NaNs make it hard to read the table. \n",
    "\n",
    "Find out how many unique items are actually in the table.\n"
   ]
  },
  {
   "cell_type": "code",
   "execution_count": 38,
   "id": "0713469a",
   "metadata": {},
   "outputs": [],
   "source": [
    "#Note: There are only 9 items in total that make up the entire dataset. \n",
    "#HINT: use the df[col].unique() method\n",
    "\n"
   ]
  },
  {
   "cell_type": "markdown",
   "id": "dfa4c921",
   "metadata": {},
   "source": [
    "## Question 3\n",
    "### Data Preprocessing\n",
    "\n",
    "To make use of the apriori module given by mlxtend library, we need to convert the dataset according to it’s liking. apriori module requires a dataframe that has either 0 and 1 or True and False as data. The data we have is all string (name of items), we need to One Hot Encode the data.\n",
    "\n",
    "Custom One Hot Encoding\n",
    "\n"
   ]
  },
  {
   "cell_type": "code",
   "execution_count": 39,
   "id": "a7def313",
   "metadata": {},
   "outputs": [],
   "source": [
    "#HINT: TransactionEncoder() read the tutorial \n"
   ]
  },
  {
   "cell_type": "markdown",
   "id": "6d2c48a5",
   "metadata": {},
   "source": [
    "## Question 4\n",
    "### Applying Apriori\n",
    "\n",
    "apriori module from mlxtend library provides fast and efficient apriori implementation.\n",
    "\n",
    "    apriori(df, min_support=0.5, use_colnames=False, max_len=None, verbose=0, low_memory=False)\n",
    "\n",
    "Parameters\n",
    "\n",
    "    df : One-Hot-Encoded DataFrame or DataFrame that has 0 and 1 or True and False as values\n",
    "    min_support : Floating point value between 0 and 1 that indicates the minimum support required for an itemset to be selected.\n",
    "    # of observation with item / total observation# of observation with item / total observation\n",
    "    use_colnames : This allows to preserve column names for itemset making it more readable.\n",
    "    max_len : Max length of itemset generated. If not set, all possible lengths are evaluated.\n",
    "    verbose : Shows the number of iterations if >= 1 and low_memory is True. If =1 and low_memory is False , shows the number of combinations.\n",
    "    low_memory :\n",
    "    If True, uses an iterator to search for combinations above min_support. Note that while low_memory=True should only be used for large dataset if memory resources are limited, because this implementation is approx. 3–6x slower than the default."
   ]
  },
  {
   "cell_type": "code",
   "execution_count": 41,
   "id": "a5947348",
   "metadata": {},
   "outputs": [],
   "source": [
    "# Use mlxtend apriori() The output is a data frame with the support for each itemsets.\n",
    "\n",
    "#Finish the code below\n",
    "freq_items = apriori()\n",
    "\n",
    "freq_items.head(7)"
   ]
  },
  {
   "cell_type": "markdown",
   "id": "80e7ec21",
   "metadata": {},
   "source": [
    "## Question 5\n",
    "### Mining Association Rules\n",
    "\n",
    "Frequent if-then associations called association rules which consists of an antecedent (if) and a consequent (then).\n",
    "\n",
    "    association_rules(df, metric=’confidence’, min_threshold=0.8, support_only=False)\n",
    "\n",
    "Metric can be set to confidence, lift, support, leverage and conviction."
   ]
  },
  {
   "cell_type": "code",
   "execution_count": null,
   "id": "2fb4231f",
   "metadata": {},
   "outputs": [],
   "source": [
    "# I have assumed that the output from Q4 is called freq_items\n",
    "rules = association_rules(freq_items, metric=\"confidence\", min_threshold=0.6)\n",
    "rules.head()"
   ]
  },
  {
   "cell_type": "markdown",
   "id": "9ad692c3",
   "metadata": {},
   "source": [
    "### Visualizing results"
   ]
  },
  {
   "cell_type": "code",
   "execution_count": 31,
   "id": "44f9e0c9",
   "metadata": {},
   "outputs": [
    {
     "ename": "NameError",
     "evalue": "name 'plt' is not defined",
     "output_type": "error",
     "traceback": [
      "\u001b[1;31m---------------------------------------------------------------------------\u001b[0m",
      "\u001b[1;31mNameError\u001b[0m                                 Traceback (most recent call last)",
      "\u001b[1;32m~\\AppData\\Local\\Temp/ipykernel_6476/2991329897.py\u001b[0m in \u001b[0;36m<module>\u001b[1;34m\u001b[0m\n\u001b[0;32m      1\u001b[0m \u001b[1;31m#Support vs Confidence\u001b[0m\u001b[1;33m\u001b[0m\u001b[1;33m\u001b[0m\u001b[0m\n\u001b[1;32m----> 2\u001b[1;33m \u001b[0mplt\u001b[0m\u001b[1;33m.\u001b[0m\u001b[0mscatter\u001b[0m\u001b[1;33m(\u001b[0m\u001b[0mrules\u001b[0m\u001b[1;33m[\u001b[0m\u001b[1;34m'support'\u001b[0m\u001b[1;33m]\u001b[0m\u001b[1;33m,\u001b[0m \u001b[0mrules\u001b[0m\u001b[1;33m[\u001b[0m\u001b[1;34m'confidence'\u001b[0m\u001b[1;33m]\u001b[0m\u001b[1;33m,\u001b[0m \u001b[0malpha\u001b[0m\u001b[1;33m=\u001b[0m\u001b[1;36m0.5\u001b[0m\u001b[1;33m)\u001b[0m\u001b[1;33m\u001b[0m\u001b[1;33m\u001b[0m\u001b[0m\n\u001b[0m\u001b[0;32m      3\u001b[0m \u001b[0mplt\u001b[0m\u001b[1;33m.\u001b[0m\u001b[0mxlabel\u001b[0m\u001b[1;33m(\u001b[0m\u001b[1;34m'support'\u001b[0m\u001b[1;33m)\u001b[0m\u001b[1;33m\u001b[0m\u001b[1;33m\u001b[0m\u001b[0m\n\u001b[0;32m      4\u001b[0m \u001b[0mplt\u001b[0m\u001b[1;33m.\u001b[0m\u001b[0mylabel\u001b[0m\u001b[1;33m(\u001b[0m\u001b[1;34m'confidence'\u001b[0m\u001b[1;33m)\u001b[0m\u001b[1;33m\u001b[0m\u001b[1;33m\u001b[0m\u001b[0m\n\u001b[0;32m      5\u001b[0m \u001b[0mplt\u001b[0m\u001b[1;33m.\u001b[0m\u001b[0mtitle\u001b[0m\u001b[1;33m(\u001b[0m\u001b[1;34m'Support vs Confidence'\u001b[0m\u001b[1;33m)\u001b[0m\u001b[1;33m\u001b[0m\u001b[1;33m\u001b[0m\u001b[0m\n",
      "\u001b[1;31mNameError\u001b[0m: name 'plt' is not defined"
     ]
    }
   ],
   "source": [
    "#Support vs Confidence\n",
    "plt.scatter(rules['support'], rules['confidence'], alpha=0.5)\n",
    "plt.xlabel('support')\n",
    "plt.ylabel('confidence')\n",
    "plt.title('Support vs Confidence')\n",
    "plt.show()\n",
    "\n",
    "#Support vs Lift\n",
    "\n",
    "plt.scatter(rules['support'], rules['lift'], alpha=0.5)\n",
    "plt.xlabel('support')\n",
    "plt.ylabel('lift')\n",
    "plt.title('Support vs Lift')\n",
    "plt.show()\n",
    "\n",
    "#Lift vs Confidence\n",
    "\n",
    "fit = np.polyfit(rules['lift'], rules['confidence'], 1)\n",
    "fit_fn = np.poly1d(fit)\n",
    "plt.plot(rules['lift'], rules['confidence'], 'yo', rules['lift'], \n",
    "fit_fn(rules['lift']))"
   ]
  }
 ],
 "metadata": {
  "kernelspec": {
   "display_name": "Python 3 (ipykernel)",
   "language": "python",
   "name": "python3"
  },
  "language_info": {
   "codemirror_mode": {
    "name": "ipython",
    "version": 3
   },
   "file_extension": ".py",
   "mimetype": "text/x-python",
   "name": "python",
   "nbconvert_exporter": "python",
   "pygments_lexer": "ipython3",
   "version": "3.9.7"
  }
 },
 "nbformat": 4,
 "nbformat_minor": 5
}
